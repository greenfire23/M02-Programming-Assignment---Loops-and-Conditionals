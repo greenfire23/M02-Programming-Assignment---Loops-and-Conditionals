{
 "cells": [
  {
   "cell_type": "code",
   "execution_count": 1,
   "id": "89a2e096",
   "metadata": {},
   "outputs": [
    {
     "name": "stdout",
     "output_type": "stream",
     "text": [
      "too high\n"
     ]
    }
   ],
   "source": [
    "#4.1\n",
    "secret = 1\n",
    "guess = 2\n",
    "if guess < secret:\n",
    "    print ('too low')\n",
    "elif guess > secret:\n",
    "    print ('too high')\n",
    "elif guess == secret:\n",
    "    print ('just right')\n"
   ]
  },
  {
   "cell_type": "code",
   "execution_count": 21,
   "id": "2c588a5e",
   "metadata": {},
   "outputs": [
    {
     "name": "stdout",
     "output_type": "stream",
     "text": [
      "normal cherry\n",
      "big pumkin\n"
     ]
    }
   ],
   "source": [
    "#4.2\n",
    "small = True\n",
    "green = False\n",
    "cherry = 'red'\n",
    "pea = 'green'\n",
    "watermelon = 'big'\n",
    "pumpkin = 'big'\n",
    "\n",
    "if cherry == \"green\":\n",
    "    print ('special cherry')\n",
    "else:\n",
    "    print ('normal cherry')\n",
    "\n",
    "if pumpkin == \"big\":\n",
    "    print('big pumkin')\n",
    "else:\n",
    "    print('small pumpkin')\n"
   ]
  },
  {
   "cell_type": "code",
   "execution_count": 31,
   "id": "74282b41",
   "metadata": {},
   "outputs": [
    {
     "name": "stdout",
     "output_type": "stream",
     "text": [
      "3\n",
      "2\n",
      "1\n",
      "0\n"
     ]
    }
   ],
   "source": [
    "#6.1\n",
    "numberList = [3, 2, 1, 0]\n",
    "for number in numberList:\n",
    "    print(number)\n",
    "    "
   ]
  },
  {
   "cell_type": "code",
   "execution_count": 36,
   "id": "08a09fb3",
   "metadata": {},
   "outputs": [
    {
     "name": "stdout",
     "output_type": "stream",
     "text": [
      "too low\n",
      "too low\n",
      "too low\n",
      "too low\n",
      "too low\n",
      "too low\n",
      "found it!\n"
     ]
    }
   ],
   "source": [
    "#6.2\n",
    "guess_me = 7\n",
    "number = 1\n",
    "while number > 0:\n",
    "    if number < guess_me:\n",
    "        print ('too low')\n",
    "    elif number == guess_me:\n",
    "        print ('found it!')\n",
    "        break\n",
    "    elif number > guess_me:\n",
    "        print ('oops')\n",
    "        break\n",
    "    number += 1\n"
   ]
  },
  {
   "cell_type": "code",
   "execution_count": 37,
   "id": "5c1f3e31",
   "metadata": {},
   "outputs": [
    {
     "name": "stdout",
     "output_type": "stream",
     "text": [
      "too low\n",
      "too low\n",
      "too low\n",
      "too low\n",
      "too low\n",
      "found it!\n"
     ]
    }
   ],
   "source": [
    "#6.3\n",
    "guess_me = 5\n",
    "for number in range (10):\n",
    "    if number < guess_me:\n",
    "        print ('too low')\n",
    "    elif number == guess_me:\n",
    "        print ('found it!')\n",
    "        break\n",
    "    elif number > guess_me:\n",
    "        print ('oops')\n",
    "        break\n",
    "    number += 1"
   ]
  }
 ],
 "metadata": {
  "kernelspec": {
   "display_name": "Python 3 (ipykernel)",
   "language": "python",
   "name": "python3"
  },
  "language_info": {
   "codemirror_mode": {
    "name": "ipython",
    "version": 3
   },
   "file_extension": ".py",
   "mimetype": "text/x-python",
   "name": "python",
   "nbconvert_exporter": "python",
   "pygments_lexer": "ipython3",
   "version": "3.9.13"
  }
 },
 "nbformat": 4,
 "nbformat_minor": 5
}
